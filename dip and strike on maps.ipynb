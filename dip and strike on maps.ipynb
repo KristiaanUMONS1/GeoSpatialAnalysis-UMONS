{
 "cells": [
  {
   "cell_type": "markdown",
   "metadata": {},
   "source": [
    "# Displaying strike and dip symbols on a map using folium\n",
    "### O. Kaufmann, 2018."
   ]
  },
  {
   "cell_type": "code",
   "execution_count": 5,
   "metadata": {},
   "outputs": [],
   "source": [
    "%matplotlib inline"
   ]
  },
  {
   "cell_type": "code",
   "execution_count": 6,
   "metadata": {},
   "outputs": [
    {
     "ename": "ModuleNotFoundError",
     "evalue": "No module named 'mplleaflet'",
     "output_type": "error",
     "traceback": [
      "\u001b[0;31m---------------------------------------------------------------------------\u001b[0m",
      "\u001b[0;31mModuleNotFoundError\u001b[0m                       Traceback (most recent call last)",
      "\u001b[0;32m<ipython-input-6-419dc461c884>\u001b[0m in \u001b[0;36m<module>\u001b[0;34m\u001b[0m\n\u001b[1;32m      1\u001b[0m \u001b[0;32mimport\u001b[0m \u001b[0mmatplotlib\u001b[0m\u001b[0;34m.\u001b[0m\u001b[0mpyplot\u001b[0m \u001b[0;32mas\u001b[0m \u001b[0mplt\u001b[0m\u001b[0;34m\u001b[0m\u001b[0m\n\u001b[0;32m----> 2\u001b[0;31m \u001b[0;32mimport\u001b[0m \u001b[0mmplleaflet\u001b[0m \u001b[0;32mas\u001b[0m \u001b[0mmpll\u001b[0m\u001b[0;34m\u001b[0m\u001b[0m\n\u001b[0m\u001b[1;32m      3\u001b[0m \u001b[0;32mimport\u001b[0m \u001b[0mpandas\u001b[0m \u001b[0;32mas\u001b[0m \u001b[0mpd\u001b[0m\u001b[0;34m\u001b[0m\u001b[0m\n\u001b[1;32m      4\u001b[0m \u001b[0;32mimport\u001b[0m \u001b[0mgeopandas\u001b[0m \u001b[0;32mas\u001b[0m \u001b[0mgpd\u001b[0m\u001b[0;34m\u001b[0m\u001b[0m\n\u001b[1;32m      5\u001b[0m \u001b[0;32mfrom\u001b[0m \u001b[0mshapely\u001b[0m\u001b[0;34m.\u001b[0m\u001b[0mgeometry\u001b[0m \u001b[0;32mimport\u001b[0m \u001b[0mPoint\u001b[0m\u001b[0;34m\u001b[0m\u001b[0m\n",
      "\u001b[0;31mModuleNotFoundError\u001b[0m: No module named 'mplleaflet'"
     ]
    }
   ],
   "source": [
    "import matplotlib.pyplot as plt\n",
    "import mplleaflet as mpll\n",
    "import pandas as pd\n",
    "import geopandas as gpd\n",
    "from shapely.geometry import Point "
   ]
  },
  {
   "cell_type": "markdown",
   "metadata": {},
   "source": [
    "<div class=\"alert alert-block alert-danger\">\n",
    "**First start a simple http server to serve the symbols**  \n",
    "Open a new terminal move to the work directory and run the following command  \n",
    "`python3 -m http.server 3333 --bind 127.0.0.1`\n",
    "</div>"
   ]
  },
  {
   "cell_type": "markdown",
   "metadata": {},
   "source": [
    "### Create a pandas dataframe with the position of the symbols given in the projected coordinate reference system of the map and the strike and dip angles given in degrees using the rigth hand side rule"
   ]
  },
  {
   "cell_type": "code",
   "execution_count": null,
   "metadata": {},
   "outputs": [],
   "source": [
    "df = pd.DataFrame([[120150, 122145,120, 30], \n",
    "                   [121450, 122255, 110, 40], \n",
    "                   [120874, 123059, 0, 60],\n",
    "                   [121400, 123500, 245, 10]], \n",
    "                  columns=['x', 'y', 'strike', 'dip'])"
   ]
  },
  {
   "cell_type": "code",
   "execution_count": null,
   "metadata": {},
   "outputs": [],
   "source": [
    "gs = gpd.GeoSeries(df.apply(lambda row: Point(row['x'], row['y']), 1),crs={'init': 'epsg:31370'})"
   ]
  },
  {
   "cell_type": "code",
   "execution_count": null,
   "metadata": {},
   "outputs": [],
   "source": [
    "gdf = gpd.GeoDataFrame(df, geometry=gs)\n",
    "gdf"
   ]
  },
  {
   "cell_type": "markdown",
   "metadata": {},
   "source": [
    "### Create a function to draw a symbol given the position and angles and save this symbol as a png image"
   ]
  },
  {
   "cell_type": "code",
   "execution_count": null,
   "metadata": {},
   "outputs": [],
   "source": [
    "def plot_strike_dip(pos, strike, dip, degrees=True, dip_length=False, linewidth=20., textsize=20.,\n",
    "                    color='black', png_fig=None):\n",
    "    # right hand side rule\n",
    "    import numpy as np\n",
    "    \n",
    "    if degrees:\n",
    "        strike = strike/180*np.pi\n",
    "        dip = dip/180*np.pi\n",
    "    \n",
    "    if dip_length:\n",
    "        dl = np.sin(dip)\n",
    "    else:\n",
    "        dl = 0.4\n",
    "        \n",
    "    fig, ax=plt.subplots(figsize=(4,4));\n",
    "    ax.axis('equal');\n",
    "    \n",
    "    ax.plot([-np.cos(np.pi/2.-strike), np.cos(np.pi/2.-strike)], \n",
    "            [-np.sin(np.pi/2.-strike), np.sin(np.pi/2.-strike)],\n",
    "            linewidth=linewidth, color=color);\n",
    "    ax.plot([0.0, np.sin(strike+np.pi/2)*dl], \n",
    "            [0.0, np.cos(strike+np.pi/2)*dl], '-k',\n",
    "           linewidth=linewidth, color=color);\n",
    "    \n",
    "    txt = ax.text(0., 0, '%02.f°' %(dip*180/np.pi), size=textsize, color=color,\n",
    "                  horizontalalignment='center', verticalalignment='center');\n",
    "    \n",
    "    txt.set_rotation(90-strike*180/np.pi);\n",
    "    txt.set_position((2.5*np.sin(strike+np.pi/2)*dl, 2.5*np.cos(strike+np.pi/2)*dl));\n",
    "    \n",
    "    #ax.plot(0., 0., '.c', markersize = 50)\n",
    "    \n",
    "    if png_fig is not None:\n",
    "        ax.axis('off');\n",
    "        ax.set_position([-1, -1, 1, 1]);\n",
    "        ax.set_xlim([-1.25,1.25]);\n",
    "        ax.set_ylim([-1.25,1.25]);\n",
    "        ax.set_aspect('equal');\n",
    "        ax.figure.canvas.draw();\n",
    "        ax.margins(1.);\n",
    "        ax.tick_params(which='both', direction='in');\n",
    "        extent = ax.get_window_extent().transformed(fig.dpi_scale_trans.inverted());\n",
    "        plt.savefig(png_fig + '.png', dpi=166, bbox_inches=extent, format='png', transparent=True);\n",
    "        ax.figure.clf()"
   ]
  },
  {
   "cell_type": "code",
   "execution_count": null,
   "metadata": {},
   "outputs": [],
   "source": [
    "gdf.apply(lambda row: plot_strike_dip(Point(row['x'], row['y']), row['strike'], row['dip'], textsize=80, png_fig=str(row.name)),1)\n",
    "for idx, row in gdf.iterrows():\n",
    "    gdf.loc[idx, 'icon'] = 'http://localhost:3333/' + str(idx) + '.png'\n",
    "gdf"
   ]
  },
  {
   "cell_type": "code",
   "execution_count": null,
   "metadata": {},
   "outputs": [],
   "source": [
    "import folium\n",
    "from folium.plugins import FloatImage"
   ]
  },
  {
   "cell_type": "code",
   "execution_count": null,
   "metadata": {},
   "outputs": [],
   "source": [
    "gdf.to_crs({'init': 'epsg:4326'}, inplace=True)"
   ]
  },
  {
   "cell_type": "code",
   "execution_count": null,
   "metadata": {},
   "outputs": [],
   "source": [
    "center=(gdf.loc[0, 'geometry'].y, gdf.loc[0, 'geometry'].x)\n",
    "center"
   ]
  },
  {
   "cell_type": "code",
   "execution_count": null,
   "metadata": {},
   "outputs": [],
   "source": [
    "from IPython.display import Image\n",
    "m = folium.Map(center, zoom_start=13)\n",
    "for idx, row in gdf.iterrows():\n",
    "        icon_url = row['icon']\n",
    "        popup = '%03.f° - %02.f°' %(row['strike'], row['dip'])\n",
    "        icon = folium.features.CustomIcon(icon_url, icon_size=(32, 32))\n",
    "        marker = folium.Marker([row.geometry.y, row.geometry.x], icon=icon, popup=popup)\n",
    "        m.add_child(marker)"
   ]
  },
  {
   "cell_type": "code",
   "execution_count": null,
   "metadata": {},
   "outputs": [],
   "source": [
    "m"
   ]
  },
  {
   "cell_type": "code",
   "execution_count": null,
   "metadata": {},
   "outputs": [],
   "source": []
  }
 ],
 "metadata": {
  "kernelspec": {
   "display_name": "Python 3",
   "language": "python",
   "name": "python3"
  },
  "language_info": {
   "codemirror_mode": {
    "name": "ipython",
    "version": 3
   },
   "file_extension": ".py",
   "mimetype": "text/x-python",
   "name": "python",
   "nbconvert_exporter": "python",
   "pygments_lexer": "ipython3",
   "version": "3.6.6"
  }
 },
 "nbformat": 4,
 "nbformat_minor": 2
}
