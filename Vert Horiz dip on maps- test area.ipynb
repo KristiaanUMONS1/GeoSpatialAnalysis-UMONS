{
 "cells": [
  {
   "cell_type": "markdown",
   "metadata": {},
   "source": [
    "# Displaying strike and dip symbols on a map using folium\n",
    "### O. Kaufmann, 2018."
   ]
  },
  {
   "cell_type": "code",
   "execution_count": 1,
   "metadata": {},
   "outputs": [],
   "source": [
    "%matplotlib inline"
   ]
  },
  {
   "cell_type": "code",
   "execution_count": 2,
   "metadata": {},
   "outputs": [],
   "source": [
    "import matplotlib.pyplot as plt\n",
    "import pandas as pd\n",
    "import geopandas as gpd\n",
    "from shapely.geometry import Point\n",
    "from shapely.geometry import Polygon\n",
    "import folium"
   ]
  },
  {
   "cell_type": "markdown",
   "metadata": {},
   "source": [
    "<div class=\"alert alert-block alert-danger\">\n",
    "**First start a simple http server to serve the symbols**  \n",
    "Open a new terminal move to the work directory and run the following command  \n",
    "`python3 -m http.server 3333 --bind 127.0.0.1`\n",
    "</div>"
   ]
  },
  {
   "cell_type": "markdown",
   "metadata": {},
   "source": [
    "### Create a pandas dataframe with the position of the symbols given in the projected coordinate reference system of the map and the strike and dip angles given in degrees using the rigth hand side rule"
   ]
  },
  {
   "cell_type": "code",
   "execution_count": 3,
   "metadata": {},
   "outputs": [],
   "source": [
    "df = pd.DataFrame([[120150, 122145,120, 0.], \n",
    "                   [121450, 122255, 110, 90.], \n",
    "                   [120874, 123059, 0, 60],\n",
    "                   [121400, 123500, 245, 10]], \n",
    "                  columns=['x', 'y', 'strike', 'dip'])"
   ]
  },
  {
   "cell_type": "raw",
   "metadata": {},
   "source": [
    "df = pd.DataFrame([[614052.875, 2474850.0, 0.,0.]], \n",
    "                  columns=['x', 'y', 'strike', 'dip'])"
   ]
  },
  {
   "cell_type": "code",
   "execution_count": 4,
   "metadata": {},
   "outputs": [],
   "source": [
    "gs = gpd.GeoSeries(df.apply(lambda row: Point(row['x'], row['y']), 1),crs={'init': 'epsg:31370'})"
   ]
  },
  {
   "cell_type": "code",
   "execution_count": 5,
   "metadata": {},
   "outputs": [],
   "source": [
    "gs = gpd.GeoSeries(df.apply(lambda row: Point(row['x'], row['y']), 1),crs={'init': 'epsg:32631'})"
   ]
  },
  {
   "cell_type": "code",
   "execution_count": 6,
   "metadata": {},
   "outputs": [
    {
     "data": {
      "text/html": [
       "<div>\n",
       "<style scoped>\n",
       "    .dataframe tbody tr th:only-of-type {\n",
       "        vertical-align: middle;\n",
       "    }\n",
       "\n",
       "    .dataframe tbody tr th {\n",
       "        vertical-align: top;\n",
       "    }\n",
       "\n",
       "    .dataframe thead th {\n",
       "        text-align: right;\n",
       "    }\n",
       "</style>\n",
       "<table border=\"1\" class=\"dataframe\">\n",
       "  <thead>\n",
       "    <tr style=\"text-align: right;\">\n",
       "      <th></th>\n",
       "      <th>x</th>\n",
       "      <th>y</th>\n",
       "      <th>strike</th>\n",
       "      <th>dip</th>\n",
       "      <th>geometry</th>\n",
       "    </tr>\n",
       "  </thead>\n",
       "  <tbody>\n",
       "    <tr>\n",
       "      <th>0</th>\n",
       "      <td>120150</td>\n",
       "      <td>122145</td>\n",
       "      <td>120</td>\n",
       "      <td>0.0</td>\n",
       "      <td>POINT (120150 122145)</td>\n",
       "    </tr>\n",
       "    <tr>\n",
       "      <th>1</th>\n",
       "      <td>121450</td>\n",
       "      <td>122255</td>\n",
       "      <td>110</td>\n",
       "      <td>90.0</td>\n",
       "      <td>POINT (121450 122255)</td>\n",
       "    </tr>\n",
       "    <tr>\n",
       "      <th>2</th>\n",
       "      <td>120874</td>\n",
       "      <td>123059</td>\n",
       "      <td>0</td>\n",
       "      <td>60.0</td>\n",
       "      <td>POINT (120874 123059)</td>\n",
       "    </tr>\n",
       "    <tr>\n",
       "      <th>3</th>\n",
       "      <td>121400</td>\n",
       "      <td>123500</td>\n",
       "      <td>245</td>\n",
       "      <td>10.0</td>\n",
       "      <td>POINT (121400 123500)</td>\n",
       "    </tr>\n",
       "  </tbody>\n",
       "</table>\n",
       "</div>"
      ],
      "text/plain": [
       "        x       y  strike   dip               geometry\n",
       "0  120150  122145     120   0.0  POINT (120150 122145)\n",
       "1  121450  122255     110  90.0  POINT (121450 122255)\n",
       "2  120874  123059       0  60.0  POINT (120874 123059)\n",
       "3  121400  123500     245  10.0  POINT (121400 123500)"
      ]
     },
     "execution_count": 6,
     "metadata": {},
     "output_type": "execute_result"
    }
   ],
   "source": [
    "gdf = gpd.GeoDataFrame(df, geometry=gs)\n",
    "gdf"
   ]
  },
  {
   "cell_type": "markdown",
   "metadata": {},
   "source": [
    "### Create a function to draw a symbol given the position and angles and save this symbol as a png image"
   ]
  },
  {
   "cell_type": "code",
   "execution_count": 7,
   "metadata": {},
   "outputs": [],
   "source": [
    "def plot_strike_dip(pos, strike, dip, degrees=True, linewidth=40., textsize=20.,\n",
    "                    color='black', png_fig=None):\n",
    "    # right hand side rule\n",
    "    import numpy as np\n",
    "    \n",
    "    if degrees:\n",
    "        strike = strike*np.pi/180.\n",
    "        dip = dip*np.pi/180.\n",
    "\n",
    "    dl = 0.4\n",
    "        \n",
    "    fig, ax=plt.subplots(figsize=(4,4));\n",
    "    \n",
    "    if dip == 0.: # horizontal\n",
    "        strike = 0.\n",
    "        horizontal_dip_circle = plt.Circle((0., 0.), 1.0, color=color, fill=False, linewidth=linewidth)\n",
    "        ax.add_artist(horizontal_dip_circle)\n",
    "        ax.plot([-np.sin(strike+np.pi/2), np.sin(strike+np.pi/2)], \n",
    "                [-np.cos(strike+np.pi/2), np.cos(strike+np.pi/2)], \n",
    "                linewidth=linewidth, color=color);\n",
    "        \n",
    "    elif dip == np.pi/2.: #vertical\n",
    "        ax.plot([-np.sin(strike+np.pi/2)*dl, np.sin(strike+np.pi/2)*dl], \n",
    "                [-np.cos(strike+np.pi/2)*dl, np.cos(strike+np.pi/2)*dl], \n",
    "                linewidth=linewidth, color=color);\n",
    "        \n",
    "    else:\n",
    "        ax.plot([0.0, np.sin(strike+np.pi/2)*dl], \n",
    "                [0.0, np.cos(strike+np.pi/2)*dl],\n",
    "                linewidth=linewidth, color=color);\n",
    "        txt = ax.text(0., 0., '%02.f°' %(dip*180/np.pi), size=textsize, color=color,\n",
    "                  horizontalalignment='center', verticalalignment='center');\n",
    "    \n",
    "        txt.set_rotation(90-strike*180/np.pi);\n",
    "        txt.set_position((2.5*np.sin(strike+np.pi/2)*dl, 2.5*np.cos(strike+np.pi/2)*dl))\n",
    "    \n",
    "    #plotting STRIKE line which is 2 x radius of 1.0\n",
    "    ax.plot([-np.cos(np.pi/2.-strike), np.cos(np.pi/2.-strike)], \n",
    "            [-np.sin(np.pi/2.-strike), np.sin(np.pi/2.-strike)],\n",
    "            linewidth=linewidth, color=color);\n",
    "    \n",
    "       \n",
    "    #ax.plot(0., 0., '.c', markersize = 50)\n",
    "    \n",
    "    if png_fig is not None:\n",
    "        ax.axis('off');\n",
    "        ax.set_position([-1, -1, 1, 1]);\n",
    "        ax.set_xlim([-1.25,1.25]);\n",
    "        ax.set_ylim([-1.25,1.25]);\n",
    "        ax.set_aspect('equal');\n",
    "        ax.figure.canvas.draw();\n",
    "        ax.margins(1.);\n",
    "        ax.tick_params(which='both', direction='in');\n",
    "        extent = ax.get_window_extent().transformed(fig.dpi_scale_trans.inverted());\n",
    "        plt.savefig(png_fig + '.png', dpi=166, bbox_inches=extent, format='png', transparent=True);\n",
    "        ax.figure.clf()"
   ]
  },
  {
   "cell_type": "code",
   "execution_count": 8,
   "metadata": {},
   "outputs": [
    {
     "data": {
      "text/html": [
       "<div>\n",
       "<style scoped>\n",
       "    .dataframe tbody tr th:only-of-type {\n",
       "        vertical-align: middle;\n",
       "    }\n",
       "\n",
       "    .dataframe tbody tr th {\n",
       "        vertical-align: top;\n",
       "    }\n",
       "\n",
       "    .dataframe thead th {\n",
       "        text-align: right;\n",
       "    }\n",
       "</style>\n",
       "<table border=\"1\" class=\"dataframe\">\n",
       "  <thead>\n",
       "    <tr style=\"text-align: right;\">\n",
       "      <th></th>\n",
       "      <th>x</th>\n",
       "      <th>y</th>\n",
       "      <th>strike</th>\n",
       "      <th>dip</th>\n",
       "      <th>geometry</th>\n",
       "      <th>icon</th>\n",
       "    </tr>\n",
       "  </thead>\n",
       "  <tbody>\n",
       "    <tr>\n",
       "      <th>0</th>\n",
       "      <td>120150</td>\n",
       "      <td>122145</td>\n",
       "      <td>120</td>\n",
       "      <td>0.0</td>\n",
       "      <td>POINT (120150 122145)</td>\n",
       "      <td>http://localhost:3333/0.png</td>\n",
       "    </tr>\n",
       "    <tr>\n",
       "      <th>1</th>\n",
       "      <td>121450</td>\n",
       "      <td>122255</td>\n",
       "      <td>110</td>\n",
       "      <td>90.0</td>\n",
       "      <td>POINT (121450 122255)</td>\n",
       "      <td>http://localhost:3333/1.png</td>\n",
       "    </tr>\n",
       "    <tr>\n",
       "      <th>2</th>\n",
       "      <td>120874</td>\n",
       "      <td>123059</td>\n",
       "      <td>0</td>\n",
       "      <td>60.0</td>\n",
       "      <td>POINT (120874 123059)</td>\n",
       "      <td>http://localhost:3333/2.png</td>\n",
       "    </tr>\n",
       "    <tr>\n",
       "      <th>3</th>\n",
       "      <td>121400</td>\n",
       "      <td>123500</td>\n",
       "      <td>245</td>\n",
       "      <td>10.0</td>\n",
       "      <td>POINT (121400 123500)</td>\n",
       "      <td>http://localhost:3333/3.png</td>\n",
       "    </tr>\n",
       "  </tbody>\n",
       "</table>\n",
       "</div>"
      ],
      "text/plain": [
       "        x       y  strike   dip               geometry  \\\n",
       "0  120150  122145     120   0.0  POINT (120150 122145)   \n",
       "1  121450  122255     110  90.0  POINT (121450 122255)   \n",
       "2  120874  123059       0  60.0  POINT (120874 123059)   \n",
       "3  121400  123500     245  10.0  POINT (121400 123500)   \n",
       "\n",
       "                          icon  \n",
       "0  http://localhost:3333/0.png  \n",
       "1  http://localhost:3333/1.png  \n",
       "2  http://localhost:3333/2.png  \n",
       "3  http://localhost:3333/3.png  "
      ]
     },
     "execution_count": 8,
     "metadata": {},
     "output_type": "execute_result"
    },
    {
     "data": {
      "text/plain": [
       "<Figure size 288x288 with 0 Axes>"
      ]
     },
     "metadata": {},
     "output_type": "display_data"
    },
    {
     "data": {
      "text/plain": [
       "<Figure size 288x288 with 0 Axes>"
      ]
     },
     "metadata": {},
     "output_type": "display_data"
    },
    {
     "data": {
      "text/plain": [
       "<Figure size 288x288 with 0 Axes>"
      ]
     },
     "metadata": {},
     "output_type": "display_data"
    },
    {
     "data": {
      "text/plain": [
       "<Figure size 288x288 with 0 Axes>"
      ]
     },
     "metadata": {},
     "output_type": "display_data"
    }
   ],
   "source": [
    "gdf.apply(lambda row: plot_strike_dip(Point(row['x'], row['y']), row['strike'], row['dip'], textsize=80, color='blue', linewidth=25., png_fig=str(row.name)),1)\n",
    "for idx, row in gdf.iterrows():\n",
    "    gdf.loc[idx, 'icon'] = 'http://localhost:3333/' + str(idx) + '.png'\n",
    "gdf"
   ]
  },
  {
   "cell_type": "code",
   "execution_count": 9,
   "metadata": {},
   "outputs": [],
   "source": [
    "gdf.to_crs({'init': 'epsg:4326'}, inplace=True)"
   ]
  },
  {
   "cell_type": "code",
   "execution_count": 10,
   "metadata": {},
   "outputs": [
    {
     "data": {
      "text/plain": [
       "(22.37585880748, 4.107834145216459)"
      ]
     },
     "execution_count": 10,
     "metadata": {},
     "output_type": "execute_result"
    }
   ],
   "source": [
    "center=(gdf.loc[0, 'geometry'].y, gdf.loc[0, 'geometry'].x)\n",
    "center=(22.3758588074800, 4.107834145216459)\n",
    "center"
   ]
  },
  {
   "cell_type": "code",
   "execution_count": 11,
   "metadata": {},
   "outputs": [],
   "source": [
    "from IPython.display import Image\n",
    "m = folium.Map(center, zoom_start=13)\n",
    "for idx, row in gdf.iterrows():\n",
    "        icon_url = row['icon']\n",
    "        popup = '%03.f° - %02.f°' %(row['strike'], row['dip'])\n",
    "        icon = folium.features.CustomIcon(icon_url, icon_size=(32, 32))\n",
    "        marker = folium.Marker([row.geometry.y, row.geometry.x], icon=icon, popup=popup)\n",
    "        m.add_child(marker)"
   ]
  },
  {
   "cell_type": "code",
   "execution_count": 12,
   "metadata": {},
   "outputs": [
    {
     "data": {
      "text/plain": [
       "<folium.features.GeoJson at 0x7f049b692128>"
      ]
     },
     "execution_count": 12,
     "metadata": {},
     "output_type": "execute_result"
    }
   ],
   "source": [
    "folium.GeoJson(open('polygon.geojson').read(), name='geojson').add_to(m)"
   ]
  },
  {
   "cell_type": "raw",
   "metadata": {},
   "source": [
    "cgdf= gpd.read_file('polygon2.geojson')\n",
    "cgdf"
   ]
  },
  {
   "cell_type": "raw",
   "metadata": {},
   "source": [
    "cgdf= gpd.read_file('convertcsv123.geojson')\n",
    "cgdf"
   ]
  },
  {
   "cell_type": "code",
   "execution_count": 13,
   "metadata": {},
   "outputs": [
    {
     "data": {
      "text/html": [
       "<div>\n",
       "<style scoped>\n",
       "    .dataframe tbody tr th:only-of-type {\n",
       "        vertical-align: middle;\n",
       "    }\n",
       "\n",
       "    .dataframe tbody tr th {\n",
       "        vertical-align: top;\n",
       "    }\n",
       "\n",
       "    .dataframe thead th {\n",
       "        text-align: right;\n",
       "    }\n",
       "</style>\n",
       "<table border=\"1\" class=\"dataframe\">\n",
       "  <thead>\n",
       "    <tr style=\"text-align: right;\">\n",
       "      <th></th>\n",
       "      <th>geometry</th>\n",
       "    </tr>\n",
       "  </thead>\n",
       "  <tbody>\n",
       "    <tr>\n",
       "      <th>0</th>\n",
       "      <td>POLYGON Z ((4.107834145216459 22.3758588074800...</td>\n",
       "    </tr>\n",
       "  </tbody>\n",
       "</table>\n",
       "</div>"
      ],
      "text/plain": [
       "                                            geometry\n",
       "0  POLYGON Z ((4.107834145216459 22.3758588074800..."
      ]
     },
     "execution_count": 13,
     "metadata": {},
     "output_type": "execute_result"
    }
   ],
   "source": [
    "cgdf= gpd.read_file('polygon.geojson')\n",
    "cgdf.to_crs({'init': 'epsg:4326'}, inplace=True)\n",
    "cgdf"
   ]
  },
  {
   "cell_type": "raw",
   "metadata": {},
   "source": [
    "cgdf= gpd.read_file('convertcsv.geojson')\n",
    "cgdf.to_crs({'init': 'epsg:4326'})"
   ]
  },
  {
   "cell_type": "code",
   "execution_count": 14,
   "metadata": {},
   "outputs": [
    {
     "data": {
      "text/plain": [
       "<folium.features.GeoJson at 0x7f049b69a128>"
      ]
     },
     "execution_count": 14,
     "metadata": {},
     "output_type": "execute_result"
    }
   ],
   "source": [
    "folium.GeoJson(cgdf.to_json(), style_function=lambda feature: {'color' : 'red',\n",
    "        'weight' : 1., 'fill': False, 'fillOpacity': 0.5,\n",
    "        }).add_to(m)"
   ]
  },
  {
   "cell_type": "code",
   "execution_count": 15,
   "metadata": {},
   "outputs": [
    {
     "data": {
      "text/plain": [
       "<folium.map.LayerControl at 0x7f049b69a160>"
      ]
     },
     "execution_count": 15,
     "metadata": {},
     "output_type": "execute_result"
    }
   ],
   "source": [
    "folium.LayerControl().add_to(m)"
   ]
  },
  {
   "cell_type": "code",
   "execution_count": 16,
   "metadata": {},
   "outputs": [
    {
     "data": {
      "text/html": [
       "<div style=\"width:100%;\"><div style=\"position:relative;width:100%;height:0;padding-bottom:60%;\"><iframe src=\"data:text/html;charset=utf-8;base64,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\" style=\"position:absolute;width:100%;height:100%;left:0;top:0;border:none !important;\" allowfullscreen webkitallowfullscreen mozallowfullscreen></iframe></div></div>"
      ],
      "text/plain": [
       "<folium.folium.Map at 0x7f049b6507b8>"
      ]
     },
     "execution_count": 16,
     "metadata": {},
     "output_type": "execute_result"
    }
   ],
   "source": [
    "m"
   ]
  }
 ],
 "metadata": {
  "kernelspec": {
   "display_name": "Python 3",
   "language": "python",
   "name": "python3"
  },
  "language_info": {
   "codemirror_mode": {
    "name": "ipython",
    "version": 3
   },
   "file_extension": ".py",
   "mimetype": "text/x-python",
   "name": "python",
   "nbconvert_exporter": "python",
   "pygments_lexer": "ipython3",
   "version": "3.6.6"
  }
 },
 "nbformat": 4,
 "nbformat_minor": 2
}
