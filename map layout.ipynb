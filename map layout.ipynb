{
 "cells": [
  {
   "cell_type": "code",
   "execution_count": 1,
   "metadata": {},
   "outputs": [],
   "source": [
    "import geopandas as gpd\n",
    "import pandas as pd\n",
    "import folium\n",
    "import matplotlib.pyplot as plt\n",
    "from shapely.geometry import Point"
   ]
  },
  {
   "cell_type": "code",
   "execution_count": 2,
   "metadata": {},
   "outputs": [],
   "source": [
    "Strat_Series_file = '/home/kristiaan/gempy/test/input_data/gempy_interfaces.csv'\n",
    "crs={'init': 'epsg:32631'}\n",
    "strat_series_colors= {'Unit1': '#3388ff', 'Unit2': '#ff00ff', 'Unit3': '#ff0000', 'Unit4': '#0000ff'}"
   ]
  },
  {
   "cell_type": "code",
   "execution_count": 3,
   "metadata": {},
   "outputs": [
    {
     "data": {
      "text/html": [
       "<div>\n",
       "<style scoped>\n",
       "    .dataframe tbody tr th:only-of-type {\n",
       "        vertical-align: middle;\n",
       "    }\n",
       "\n",
       "    .dataframe tbody tr th {\n",
       "        vertical-align: top;\n",
       "    }\n",
       "\n",
       "    .dataframe thead th {\n",
       "        text-align: right;\n",
       "    }\n",
       "</style>\n",
       "<table border=\"1\" class=\"dataframe\">\n",
       "  <thead>\n",
       "    <tr style=\"text-align: right;\">\n",
       "      <th></th>\n",
       "      <th>X</th>\n",
       "      <th>Y</th>\n",
       "      <th>Z</th>\n",
       "      <th>formation</th>\n",
       "      <th>series</th>\n",
       "      <th>formation number</th>\n",
       "    </tr>\n",
       "  </thead>\n",
       "  <tbody>\n",
       "    <tr>\n",
       "      <th>0</th>\n",
       "      <td>614128.224680</td>\n",
       "      <td>2.474470e+06</td>\n",
       "      <td>387.0</td>\n",
       "      <td>Unit3</td>\n",
       "      <td>Default series</td>\n",
       "      <td>3</td>\n",
       "    </tr>\n",
       "    <tr>\n",
       "      <th>1</th>\n",
       "      <td>614153.243246</td>\n",
       "      <td>2.475129e+06</td>\n",
       "      <td>498.0</td>\n",
       "      <td>Unit3</td>\n",
       "      <td>Default series</td>\n",
       "      <td>3</td>\n",
       "    </tr>\n",
       "    <tr>\n",
       "      <th>2</th>\n",
       "      <td>614374.236620</td>\n",
       "      <td>2.475694e+06</td>\n",
       "      <td>558.0</td>\n",
       "      <td>Unit3</td>\n",
       "      <td>Default series</td>\n",
       "      <td>3</td>\n",
       "    </tr>\n",
       "    <tr>\n",
       "      <th>3</th>\n",
       "      <td>614679.961598</td>\n",
       "      <td>2.476173e+06</td>\n",
       "      <td>560.0</td>\n",
       "      <td>Unit3</td>\n",
       "      <td>Default series</td>\n",
       "      <td>3</td>\n",
       "    </tr>\n",
       "    <tr>\n",
       "      <th>4</th>\n",
       "      <td>614928.326563</td>\n",
       "      <td>2.476785e+06</td>\n",
       "      <td>511.0</td>\n",
       "      <td>Unit3</td>\n",
       "      <td>Default series</td>\n",
       "      <td>3</td>\n",
       "    </tr>\n",
       "  </tbody>\n",
       "</table>\n",
       "</div>"
      ],
      "text/plain": [
       "               X             Y      Z formation          series  \\\n",
       "0  614128.224680  2.474470e+06  387.0     Unit3  Default series   \n",
       "1  614153.243246  2.475129e+06  498.0     Unit3  Default series   \n",
       "2  614374.236620  2.475694e+06  558.0     Unit3  Default series   \n",
       "3  614679.961598  2.476173e+06  560.0     Unit3  Default series   \n",
       "4  614928.326563  2.476785e+06  511.0     Unit3  Default series   \n",
       "\n",
       "   formation number  \n",
       "0                 3  \n",
       "1                 3  \n",
       "2                 3  \n",
       "3                 3  \n",
       "4                 3  "
      ]
     },
     "execution_count": 3,
     "metadata": {},
     "output_type": "execute_result"
    }
   ],
   "source": [
    "#read csv file with pandas dataframe\n",
    "Strat_Series_df = pd.read_csv(Strat_Series_file)\n",
    "Strat_Series_df.head()"
   ]
  },
  {
   "cell_type": "code",
   "execution_count": 4,
   "metadata": {},
   "outputs": [
    {
     "data": {
      "text/html": [
       "<div>\n",
       "<style scoped>\n",
       "    .dataframe tbody tr th:only-of-type {\n",
       "        vertical-align: middle;\n",
       "    }\n",
       "\n",
       "    .dataframe tbody tr th {\n",
       "        vertical-align: top;\n",
       "    }\n",
       "\n",
       "    .dataframe thead th {\n",
       "        text-align: right;\n",
       "    }\n",
       "</style>\n",
       "<table border=\"1\" class=\"dataframe\">\n",
       "  <thead>\n",
       "    <tr style=\"text-align: right;\">\n",
       "      <th></th>\n",
       "      <th>X</th>\n",
       "      <th>Y</th>\n",
       "      <th>Z</th>\n",
       "      <th>formation</th>\n",
       "      <th>series</th>\n",
       "      <th>formation number</th>\n",
       "      <th>geometry</th>\n",
       "    </tr>\n",
       "  </thead>\n",
       "  <tbody>\n",
       "    <tr>\n",
       "      <th>0</th>\n",
       "      <td>614128.224680</td>\n",
       "      <td>2.474470e+06</td>\n",
       "      <td>387.0</td>\n",
       "      <td>Unit3</td>\n",
       "      <td>Default series</td>\n",
       "      <td>3</td>\n",
       "      <td>POINT Z (4.108538739906882 22.37241970204658 387)</td>\n",
       "    </tr>\n",
       "    <tr>\n",
       "      <th>1</th>\n",
       "      <td>614153.243246</td>\n",
       "      <td>2.475129e+06</td>\n",
       "      <td>498.0</td>\n",
       "      <td>Unit3</td>\n",
       "      <td>Default series</td>\n",
       "      <td>3</td>\n",
       "      <td>POINT Z (4.108828882459814 22.37837223534472 498)</td>\n",
       "    </tr>\n",
       "    <tr>\n",
       "      <th>2</th>\n",
       "      <td>614374.236620</td>\n",
       "      <td>2.475694e+06</td>\n",
       "      <td>558.0</td>\n",
       "      <td>Unit3</td>\n",
       "      <td>Default series</td>\n",
       "      <td>3</td>\n",
       "      <td>POINT Z (4.111015697136676 22.38345857653841 558)</td>\n",
       "    </tr>\n",
       "    <tr>\n",
       "      <th>3</th>\n",
       "      <td>614679.961598</td>\n",
       "      <td>2.476173e+06</td>\n",
       "      <td>560.0</td>\n",
       "      <td>Unit3</td>\n",
       "      <td>Default series</td>\n",
       "      <td>3</td>\n",
       "      <td>POINT Z (4.114019475337598 22.38776268396345 560)</td>\n",
       "    </tr>\n",
       "    <tr>\n",
       "      <th>4</th>\n",
       "      <td>614928.326563</td>\n",
       "      <td>2.476785e+06</td>\n",
       "      <td>511.0</td>\n",
       "      <td>Unit3</td>\n",
       "      <td>Default series</td>\n",
       "      <td>3</td>\n",
       "      <td>POINT Z (4.116475936408888 22.39327735263431 511)</td>\n",
       "    </tr>\n",
       "  </tbody>\n",
       "</table>\n",
       "</div>"
      ],
      "text/plain": [
       "               X             Y      Z formation          series  \\\n",
       "0  614128.224680  2.474470e+06  387.0     Unit3  Default series   \n",
       "1  614153.243246  2.475129e+06  498.0     Unit3  Default series   \n",
       "2  614374.236620  2.475694e+06  558.0     Unit3  Default series   \n",
       "3  614679.961598  2.476173e+06  560.0     Unit3  Default series   \n",
       "4  614928.326563  2.476785e+06  511.0     Unit3  Default series   \n",
       "\n",
       "   formation number                                           geometry  \n",
       "0                 3  POINT Z (4.108538739906882 22.37241970204658 387)  \n",
       "1                 3  POINT Z (4.108828882459814 22.37837223534472 498)  \n",
       "2                 3  POINT Z (4.111015697136676 22.38345857653841 558)  \n",
       "3                 3  POINT Z (4.114019475337598 22.38776268396345 560)  \n",
       "4                 3  POINT Z (4.116475936408888 22.39327735263431 511)  "
      ]
     },
     "execution_count": 4,
     "metadata": {},
     "output_type": "execute_result"
    }
   ],
   "source": [
    "gs= gpd.GeoSeries(Strat_Series_df.apply(lambda row: Point(row['X'], row['Y'], row['Z']),1),crs=crs)\n",
    "Strat_Series_gdf= gpd.GeoDataFrame(Strat_Series_df, geometry=gs)\n",
    "Strat_Series_gdf.to_crs(epsg=4326, inplace=True) #inplace overwrites and updates file\n",
    "Strat_Series_gdf.head()"
   ]
  },
  {
   "cell_type": "code",
   "execution_count": 5,
   "metadata": {},
   "outputs": [
    {
     "data": {
      "text/html": [
       "<div style=\"width:100%;\"><div style=\"position:relative;width:100%;height:0;padding-bottom:60%;\"><iframe src=\"data:text/html;charset=utf-8;base64,PCFET0NUWVBFIGh0bWw+CjxoZWFkPiAgICAKICAgIDxtZXRhIGh0dHAtZXF1aXY9ImNvbnRlbnQtdHlwZSIgY29udGVudD0idGV4dC9odG1sOyBjaGFyc2V0PVVURi04IiAvPgogICAgPHNjcmlwdD5MX1BSRUZFUl9DQU5WQVM9ZmFsc2U7IExfTk9fVE9VQ0g9ZmFsc2U7IExfRElTQUJMRV8zRD1mYWxzZTs8L3NjcmlwdD4KICAgIDxzY3JpcHQgc3JjPSJodHRwczovL2Nkbi5qc2RlbGl2ci5uZXQvbnBtL2xlYWZsZXRAMS4zLjQvZGlzdC9sZWFmbGV0LmpzIj48L3NjcmlwdD4KICAgIDxzY3JpcHQgc3JjPSJodHRwczovL2FqYXguZ29vZ2xlYXBpcy5jb20vYWpheC9saWJzL2pxdWVyeS8xLjExLjEvanF1ZXJ5Lm1pbi5qcyI+PC9zY3JpcHQ+CiAgICA8c2NyaXB0IHNyYz0iaHR0cHM6Ly9tYXhjZG4uYm9vdHN0cmFwY2RuLmNvbS9ib290c3RyYXAvMy4yLjAvanMvYm9vdHN0cmFwLm1pbi5qcyI+PC9zY3JpcHQ+CiAgICA8c2NyaXB0IHNyYz0iaHR0cHM6Ly9jZG5qcy5jbG91ZGZsYXJlLmNvbS9hamF4L2xpYnMvTGVhZmxldC5hd2Vzb21lLW1hcmtlcnMvMi4wLjIvbGVhZmxldC5hd2Vzb21lLW1hcmtlcnMuanMiPjwvc2NyaXB0PgogICAgPGxpbmsgcmVsPSJzdHlsZXNoZWV0IiBocmVmPSJodHRwczovL2Nkbi5qc2RlbGl2ci5uZXQvbnBtL2xlYWZsZXRAMS4zLjQvZGlzdC9sZWFmbGV0LmNzcyIvPgogICAgPGxpbmsgcmVsPSJzdHlsZXNoZWV0IiBocmVmPSJodHRwczovL21heGNkbi5ib290c3RyYXBjZG4uY29tL2Jvb3RzdHJhcC8zLjIuMC9jc3MvYm9vdHN0cmFwLm1pbi5jc3MiLz4KICAgIDxsaW5rIHJlbD0ic3R5bGVzaGVldCIgaHJlZj0iaHR0cHM6Ly9tYXhjZG4uYm9vdHN0cmFwY2RuLmNvbS9ib290c3RyYXAvMy4yLjAvY3NzL2Jvb3RzdHJhcC10aGVtZS5taW4uY3NzIi8+CiAgICA8bGluayByZWw9InN0eWxlc2hlZXQiIGhyZWY9Imh0dHBzOi8vbWF4Y2RuLmJvb3RzdHJhcGNkbi5jb20vZm9udC1hd2Vzb21lLzQuNi4zL2Nzcy9mb250LWF3ZXNvbWUubWluLmNzcyIvPgogICAgPGxpbmsgcmVsPSJzdHlsZXNoZWV0IiBocmVmPSJodHRwczovL2NkbmpzLmNsb3VkZmxhcmUuY29tL2FqYXgvbGlicy9MZWFmbGV0LmF3ZXNvbWUtbWFya2Vycy8yLjAuMi9sZWFmbGV0LmF3ZXNvbWUtbWFya2Vycy5jc3MiLz4KICAgIDxsaW5rIHJlbD0ic3R5bGVzaGVldCIgaHJlZj0iaHR0cHM6Ly9yYXdjZG4uZ2l0aGFjay5jb20vcHl0aG9uLXZpc3VhbGl6YXRpb24vZm9saXVtL21hc3Rlci9mb2xpdW0vdGVtcGxhdGVzL2xlYWZsZXQuYXdlc29tZS5yb3RhdGUuY3NzIi8+CiAgICA8c3R5bGU+aHRtbCwgYm9keSB7d2lkdGg6IDEwMCU7aGVpZ2h0OiAxMDAlO21hcmdpbjogMDtwYWRkaW5nOiAwO308L3N0eWxlPgogICAgPHN0eWxlPiNtYXAge3Bvc2l0aW9uOmFic29sdXRlO3RvcDowO2JvdHRvbTowO3JpZ2h0OjA7bGVmdDowO308L3N0eWxlPgogICAgCiAgICA8bWV0YSBuYW1lPSJ2aWV3cG9ydCIgY29udGVudD0id2lkdGg9ZGV2aWNlLXdpZHRoLAogICAgICAgIGluaXRpYWwtc2NhbGU9MS4wLCBtYXhpbXVtLXNjYWxlPTEuMCwgdXNlci1zY2FsYWJsZT1ubyIgLz4KICAgIDxzdHlsZT4jbWFwX2ZhYWNkNGVmN2EwZjRmYmRhMGFjMDg3YTA0N2RjNTg4IHsKICAgICAgICBwb3NpdGlvbjogcmVsYXRpdmU7CiAgICAgICAgd2lkdGg6IDEwMC4wJTsKICAgICAgICBoZWlnaHQ6IDEwMC4wJTsKICAgICAgICBsZWZ0OiAwLjAlOwogICAgICAgIHRvcDogMC4wJTsKICAgICAgICB9CiAgICA8L3N0eWxlPgo8L2hlYWQ+Cjxib2R5PiAgICAKICAgIAogICAgPGRpdiBjbGFzcz0iZm9saXVtLW1hcCIgaWQ9Im1hcF9mYWFjZDRlZjdhMGY0ZmJkYTBhYzA4N2EwNDdkYzU4OCIgPjwvZGl2Pgo8L2JvZHk+CjxzY3JpcHQ+ICAgIAogICAgCiAgICAKICAgICAgICB2YXIgYm91bmRzID0gbnVsbDsKICAgIAoKICAgIHZhciBtYXBfZmFhY2Q0ZWY3YTBmNGZiZGEwYWMwODdhMDQ3ZGM1ODggPSBMLm1hcCgKICAgICAgICAnbWFwX2ZhYWNkNGVmN2EwZjRmYmRhMGFjMDg3YTA0N2RjNTg4JywgewogICAgICAgIGNlbnRlcjogWzIyLjM3MSwgNC4xMTVdLAogICAgICAgIHpvb206IDEwLAogICAgICAgIG1heEJvdW5kczogYm91bmRzLAogICAgICAgIGxheWVyczogW10sCiAgICAgICAgd29ybGRDb3B5SnVtcDogZmFsc2UsCiAgICAgICAgY3JzOiBMLkNSUy5FUFNHMzg1NywKICAgICAgICB6b29tQ29udHJvbDogdHJ1ZSwKICAgICAgICB9KTsKTC5jb250cm9sLnNjYWxlKCkuYWRkVG8obWFwX2ZhYWNkNGVmN2EwZjRmYmRhMGFjMDg3YTA0N2RjNTg4KTsKICAgIAogICAgCiAgICB2YXIgdGlsZV9sYXllcl9jZGM1MDFiYWIxOTM0NWE0YTM1MTI2NjEzOTQ4YWI1MyA9IEwudGlsZUxheWVyKAogICAgICAgICdodHRwczovL3tzfS50aWxlLm9wZW5zdHJlZXRtYXAub3JnL3t6fS97eH0ve3l9LnBuZycsCiAgICAgICAgewogICAgICAgICJhdHRyaWJ1dGlvbiI6IG51bGwsCiAgICAgICAgImRldGVjdFJldGluYSI6IGZhbHNlLAogICAgICAgICJtYXhOYXRpdmVab29tIjogMTgsCiAgICAgICAgIm1heFpvb20iOiAxOCwKICAgICAgICAibWluWm9vbSI6IDAsCiAgICAgICAgIm5vV3JhcCI6IGZhbHNlLAogICAgICAgICJvcGFjaXR5IjogMSwKICAgICAgICAic3ViZG9tYWlucyI6ICJhYmMiLAogICAgICAgICJ0bXMiOiBmYWxzZQp9KS5hZGRUbyhtYXBfZmFhY2Q0ZWY3YTBmNGZiZGEwYWMwODdhMDQ3ZGM1ODgpOwo8L3NjcmlwdD4=\" style=\"position:absolute;width:100%;height:100%;left:0;top:0;border:none !important;\" allowfullscreen webkitallowfullscreen mozallowfullscreen></iframe></div></div>"
      ],
      "text/plain": [
       "<folium.folium.Map at 0x7fb4186298d0>"
      ]
     },
     "execution_count": 5,
     "metadata": {},
     "output_type": "execute_result"
    }
   ],
   "source": [
    "MyMap=folium.Map(location=[22.371, 4.115],tiles=\"openstreetmap\", zoom_start=10,control_scale=True)\n",
    "MyMap"
   ]
  },
  {
   "cell_type": "raw",
   "metadata": {},
   "source": [
    "for idx, row in Strat_Series_gdf.iterrows():\n",
    "    print(row['geometry'])\n",
    "    current_point= row['geometry']\n",
    "    print (current_point.x, current_point.y)"
   ]
  },
  {
   "cell_type": "code",
   "execution_count": 6,
   "metadata": {},
   "outputs": [
    {
     "data": {
      "text/plain": [
       "'#ff00ff'"
      ]
     },
     "execution_count": 6,
     "metadata": {},
     "output_type": "execute_result"
    }
   ],
   "source": [
    "strat_series_colors['Unit2']"
   ]
  },
  {
   "cell_type": "code",
   "execution_count": 10,
   "metadata": {},
   "outputs": [
    {
     "ename": "TypeError",
     "evalue": "__init__() got an unexpected keyword argument 'rotationAngle'",
     "output_type": "error",
     "traceback": [
      "\u001b[0;31m---------------------------------------------------------------------------\u001b[0m",
      "\u001b[0;31mTypeError\u001b[0m                                 Traceback (most recent call last)",
      "\u001b[0;32m<ipython-input-10-a224bd84854a>\u001b[0m in \u001b[0;36m<module>\u001b[0;34m\u001b[0m\n\u001b[1;32m      4\u001b[0m     \u001b[0;31m#print (current_point.x, current_point.y)\u001b[0m\u001b[0;34m\u001b[0m\u001b[0;34m\u001b[0m\u001b[0m\n\u001b[1;32m      5\u001b[0m     \u001b[0mfolium\u001b[0m\u001b[0;34m.\u001b[0m\u001b[0mCircle\u001b[0m\u001b[0;34m(\u001b[0m\u001b[0;34m[\u001b[0m\u001b[0mcurrent_point\u001b[0m\u001b[0;34m.\u001b[0m\u001b[0my\u001b[0m\u001b[0;34m,\u001b[0m \u001b[0mcurrent_point\u001b[0m\u001b[0;34m.\u001b[0m\u001b[0mx\u001b[0m\u001b[0;34m]\u001b[0m\u001b[0;34m,\u001b[0m\u001b[0mradius\u001b[0m\u001b[0;34m=\u001b[0m\u001b[0;36m100\u001b[0m\u001b[0;34m,\u001b[0m \u001b[0mcolor\u001b[0m\u001b[0;34m=\u001b[0m\u001b[0mstrat_series_colors\u001b[0m\u001b[0;34m[\u001b[0m\u001b[0mrow\u001b[0m\u001b[0;34m[\u001b[0m\u001b[0;34m'formation'\u001b[0m\u001b[0;34m]\u001b[0m\u001b[0;34m]\u001b[0m\u001b[0;34m,\u001b[0m \u001b[0mfill\u001b[0m\u001b[0;34m=\u001b[0m\u001b[0;32mTrue\u001b[0m\u001b[0;34m)\u001b[0m\u001b[0;34m.\u001b[0m\u001b[0madd_to\u001b[0m\u001b[0;34m(\u001b[0m\u001b[0mMyMap\u001b[0m\u001b[0;34m)\u001b[0m\u001b[0;34m\u001b[0m\u001b[0m\n\u001b[0;32m----> 6\u001b[0;31m     \u001b[0mfolium\u001b[0m\u001b[0;34m.\u001b[0m\u001b[0mMarker\u001b[0m\u001b[0;34m(\u001b[0m\u001b[0;34m[\u001b[0m\u001b[0mcurrent_point\u001b[0m\u001b[0;34m.\u001b[0m\u001b[0my\u001b[0m\u001b[0;34m,\u001b[0m \u001b[0mcurrent_point\u001b[0m\u001b[0;34m.\u001b[0m\u001b[0mx\u001b[0m\u001b[0;34m]\u001b[0m\u001b[0;34m,\u001b[0m \u001b[0mrotationAngle\u001b[0m\u001b[0;34m=\u001b[0m\u001b[0;36m10\u001b[0m\u001b[0;34m)\u001b[0m\u001b[0;34m\u001b[0m\u001b[0m\n\u001b[0m\u001b[1;32m      7\u001b[0m \u001b[0mMyMap\u001b[0m\u001b[0;34m\u001b[0m\u001b[0m\n",
      "\u001b[0;31mTypeError\u001b[0m: __init__() got an unexpected keyword argument 'rotationAngle'"
     ]
    }
   ],
   "source": [
    "for idx, row in Strat_Series_gdf.iterrows():\n",
    "    #print(row['geometry'])\n",
    "    current_point= row['geometry']\n",
    "    #print (current_point.x, current_point.y)\n",
    "    folium.Circle([current_point.y, current_point.x],radius=100, color=strat_series_colors[row['formation']], fill=True).add_to(MyMap)   \n",
    "MyMap\n"
   ]
  },
  {
   "cell_type": "code",
   "execution_count": null,
   "metadata": {},
   "outputs": [],
   "source": [
    "#point=Point(50.45, 3.95) #lat-long\n",
    "point=Point(3.95, 50.45) #long-lat\n",
    "point.xy"
   ]
  },
  {
   "cell_type": "code",
   "execution_count": null,
   "metadata": {},
   "outputs": [],
   "source": [
    "# The last two is the same\n",
    "list(point.xy[0])[0]\n",
    "[list(point.xy)[i][0] for i in range(len(point.xy))]\n",
    "[point.xy[i].tolist()[0] for i in range(len(point.xy))]"
   ]
  },
  {
   "cell_type": "code",
   "execution_count": null,
   "metadata": {
    "scrolled": true
   },
   "outputs": [],
   "source": [
    "m=folium.Map(location=[50.4,3.9], tiles=\"openstreetmap\", zoom_start=10) #lat-long\n",
    "folium.Marker([point.y,point.x]).add_to(m)\n",
    "m"
   ]
  },
  {
   "cell_type": "code",
   "execution_count": null,
   "metadata": {},
   "outputs": [],
   "source": [
    "import pyproj as proj\n",
    "crs_wgs = proj.Proj(init='epsg:4326')\n",
    "crs_lb72 = proj.Proj(init='epsg:31370') \n",
    "x,y=proj.transform(crs_wgs,crs_lb72,point.x, point.y, radians=False)\n",
    "print(x)\n",
    "print(y)"
   ]
  },
  {
   "cell_type": "code",
   "execution_count": null,
   "metadata": {},
   "outputs": [],
   "source": [
    "print(proj.transform(crs_lb72,crs_wgs,x,y, radians=False)) #check the reverse tranformation"
   ]
  },
  {
   "cell_type": "code",
   "execution_count": null,
   "metadata": {
    "scrolled": false
   },
   "outputs": [],
   "source": [
    "x2,y2=proj.transform(crs_lb72,crs_wgs,x,y, radians=False)\n",
    "point2=Point(y2, x2)\n",
    "folium.Marker([point2.y,point2.x]).add_to(m)\n",
    "m"
   ]
  },
  {
   "cell_type": "markdown",
   "metadata": {},
   "source": [
    "# List of points"
   ]
  },
  {
   "cell_type": "code",
   "execution_count": null,
   "metadata": {},
   "outputs": [],
   "source": [
    "import pandas as pd\n",
    "df = pd.DataFrame(\n",
    "    {'Latitude': [51,52,53,34],\n",
    "     'Longitude': [4,5,6,16]})"
   ]
  },
  {
   "cell_type": "code",
   "execution_count": null,
   "metadata": {},
   "outputs": [],
   "source": [
    "df['Coordinates'] = list(zip(df.Longitude, df.Latitude))"
   ]
  },
  {
   "cell_type": "code",
   "execution_count": null,
   "metadata": {},
   "outputs": [],
   "source": [
    "df['Coordinates'].apply(Point)"
   ]
  },
  {
   "cell_type": "code",
   "execution_count": null,
   "metadata": {
    "scrolled": true
   },
   "outputs": [],
   "source": [
    "newmap=folium.Map(location=[50,4], tiles=\"openstreetmap\",zoom_start=6) #lat-long\n",
    "\n",
    "xx=[list(reversed(df.Coordinates[i])) for i in range(df.Coordinates.count())] # reverse lat-long\n",
    "[folium.Marker(xx[e]).add_to(newmap) for e in range(len(xx))]"
   ]
  },
  {
   "cell_type": "code",
   "execution_count": null,
   "metadata": {},
   "outputs": [],
   "source": [
    "newmap"
   ]
  },
  {
   "cell_type": "code",
   "execution_count": null,
   "metadata": {},
   "outputs": [],
   "source": [
    "import  selenium\n",
    "from selenium import webdriver\n",
    "import time\n",
    "import os\n",
    "\n",
    "def to_png(m, filename):\n",
    "    \n",
    "    m.save(\"tmp_map.html\")\n",
    "    tmpurl = \"file://{path}/tmp_map.html\".format(path=os.getcwd())\n",
    "    driver = selenium.webdriver.Firefox()\n",
    "    \n",
    "    driver.get(tmpurl)\n",
    "    time.sleep(10)\n",
    "    driver.save_screenshot(filename)\n",
    "    driver.quit()\n",
    "    "
   ]
  },
  {
   "cell_type": "code",
   "execution_count": null,
   "metadata": {},
   "outputs": [],
   "source": [
    "to_png(m, \"test.png\")"
   ]
  },
  {
   "cell_type": "code",
   "execution_count": null,
   "metadata": {},
   "outputs": [],
   "source": []
  }
 ],
 "metadata": {
  "kernelspec": {
   "display_name": "Python 3",
   "language": "python",
   "name": "python3"
  },
  "language_info": {
   "codemirror_mode": {
    "name": "ipython",
    "version": 3
   },
   "file_extension": ".py",
   "mimetype": "text/x-python",
   "name": "python",
   "nbconvert_exporter": "python",
   "pygments_lexer": "ipython3",
   "version": "3.6.6"
  }
 },
 "nbformat": 4,
 "nbformat_minor": 2
}
