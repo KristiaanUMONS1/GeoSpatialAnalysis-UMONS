{
 "cells": [
  {
   "cell_type": "code",
   "execution_count": null,
   "metadata": {},
   "outputs": [],
   "source": [
    "# How to convert from a given CRS to another\n",
    "\n",
    "def convertProjection(self,x,y,from_crs,to_crs):\n",
    "    crsSrc = QgsCoordinateReferenceSystem(from_crs)\n",
    "    crsDest = QgsCoordinateReferenceSystem(to_crs)\n",
    "    xform = QgsCoordinateTransform(crsSrc, crsDest)\n",
    "    pt = xform.transform(QgsPoint(x,y))\n",
    "    return pt.x, pt.y\n",
    "\n",
    "# Remove the \"EPSG:\" part\n",
    "from_crs = 3857\n",
    "to_crs = 31370\n",
    "x = -11705274.6374    \n",
    "y = 4826473.6922\n",
    "lon, lat = self.convertProjection(x,y,from_crs, to_crs)\n",
    "\n"
   ]
  }
 ],
 "metadata": {
  "kernelspec": {
   "display_name": "Python 3",
   "language": "python",
   "name": "python3"
  },
  "language_info": {
   "codemirror_mode": {
    "name": "ipython",
    "version": 3
   },
   "file_extension": ".py",
   "mimetype": "text/x-python",
   "name": "python",
   "nbconvert_exporter": "python",
   "pygments_lexer": "ipython3",
   "version": "3.6.6"
  }
 },
 "nbformat": 4,
 "nbformat_minor": 2
}
